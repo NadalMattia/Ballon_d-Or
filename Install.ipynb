{
 "cells": [
  {
   "cell_type": "code",
   "execution_count": 5,
   "id": "d106183f-bfca-481f-96d2-8d40fcd529ae",
   "metadata": {},
   "outputs": [
    {
     "name": "stdout",
     "output_type": "stream",
     "text": [
      "Requirement already satisfied: selenium in c:\\users\\matti\\onedrive\\documents\\github\\datascienzeproject\\ballon_d'or\\lib\\site-packages (4.26.1)\n",
      "Requirement already satisfied: urllib3<3,>=1.26 in c:\\users\\matti\\onedrive\\documents\\github\\datascienzeproject\\ballon_d'or\\lib\\site-packages (from urllib3[socks]<3,>=1.26->selenium) (2.2.3)\n",
      "Requirement already satisfied: trio~=0.17 in c:\\users\\matti\\onedrive\\documents\\github\\datascienzeproject\\ballon_d'or\\lib\\site-packages (from selenium) (0.27.0)\n",
      "Requirement already satisfied: trio-websocket~=0.9 in c:\\users\\matti\\onedrive\\documents\\github\\datascienzeproject\\ballon_d'or\\lib\\site-packages (from selenium) (0.11.1)\n",
      "Requirement already satisfied: certifi>=2021.10.8 in c:\\users\\matti\\onedrive\\documents\\github\\datascienzeproject\\ballon_d'or\\lib\\site-packages (from selenium) (2024.8.30)\n",
      "Requirement already satisfied: typing_extensions~=4.9 in c:\\users\\matti\\onedrive\\documents\\github\\datascienzeproject\\ballon_d'or\\lib\\site-packages (from selenium) (4.12.2)\n",
      "Requirement already satisfied: websocket-client~=1.8 in c:\\users\\matti\\onedrive\\documents\\github\\datascienzeproject\\ballon_d'or\\lib\\site-packages (from selenium) (1.8.0)\n",
      "Requirement already satisfied: attrs>=23.2.0 in c:\\users\\matti\\onedrive\\documents\\github\\datascienzeproject\\ballon_d'or\\lib\\site-packages (from trio~=0.17->selenium) (24.2.0)\n",
      "Requirement already satisfied: sortedcontainers in c:\\users\\matti\\onedrive\\documents\\github\\datascienzeproject\\ballon_d'or\\lib\\site-packages (from trio~=0.17->selenium) (2.4.0)\n",
      "Requirement already satisfied: idna in c:\\users\\matti\\onedrive\\documents\\github\\datascienzeproject\\ballon_d'or\\lib\\site-packages (from trio~=0.17->selenium) (3.10)\n",
      "Requirement already satisfied: outcome in c:\\users\\matti\\onedrive\\documents\\github\\datascienzeproject\\ballon_d'or\\lib\\site-packages (from trio~=0.17->selenium) (1.3.0.post0)\n",
      "Requirement already satisfied: sniffio>=1.3.0 in c:\\users\\matti\\onedrive\\documents\\github\\datascienzeproject\\ballon_d'or\\lib\\site-packages (from trio~=0.17->selenium) (1.3.1)\n",
      "Requirement already satisfied: cffi>=1.14 in c:\\users\\matti\\onedrive\\documents\\github\\datascienzeproject\\ballon_d'or\\lib\\site-packages (from trio~=0.17->selenium) (1.17.1)\n",
      "Requirement already satisfied: wsproto>=0.14 in c:\\users\\matti\\onedrive\\documents\\github\\datascienzeproject\\ballon_d'or\\lib\\site-packages (from trio-websocket~=0.9->selenium) (1.2.0)\n",
      "Requirement already satisfied: pysocks!=1.5.7,<2.0,>=1.5.6 in c:\\users\\matti\\onedrive\\documents\\github\\datascienzeproject\\ballon_d'or\\lib\\site-packages (from urllib3[socks]<3,>=1.26->selenium) (1.7.1)\n",
      "Requirement already satisfied: pycparser in c:\\users\\matti\\onedrive\\documents\\github\\datascienzeproject\\ballon_d'or\\lib\\site-packages (from cffi>=1.14->trio~=0.17->selenium) (2.22)\n",
      "Requirement already satisfied: h11<1,>=0.9.0 in c:\\users\\matti\\onedrive\\documents\\github\\datascienzeproject\\ballon_d'or\\lib\\site-packages (from wsproto>=0.14->trio-websocket~=0.9->selenium) (0.14.0)\n"
     ]
    }
   ],
   "source": [
    "!pip install selenium"
   ]
  },
  {
   "cell_type": "code",
   "execution_count": 1,
   "id": "04be0561-a5aa-4893-9efb-f91a5cefdf83",
   "metadata": {},
   "outputs": [
    {
     "name": "stdout",
     "output_type": "stream",
     "text": [
      "Collecting asyncio\n",
      "  Downloading asyncio-3.4.3-py3-none-any.whl.metadata (1.7 kB)\n",
      "Downloading asyncio-3.4.3-py3-none-any.whl (101 kB)\n",
      "Installing collected packages: asyncio\n",
      "Successfully installed asyncio-3.4.3\n"
     ]
    }
   ],
   "source": [
    "!pip install asyncio"
   ]
  },
  {
   "cell_type": "code",
   "execution_count": 2,
   "id": "631037cf-69f3-4efe-aaa6-148aced3de01",
   "metadata": {},
   "outputs": [
    {
     "name": "stdout",
     "output_type": "stream",
     "text": [
      "Collecting websockets\n",
      "  Downloading websockets-13.1-cp312-cp312-win_amd64.whl.metadata (7.0 kB)\n",
      "Downloading websockets-13.1-cp312-cp312-win_amd64.whl (159 kB)\n",
      "Installing collected packages: websockets\n",
      "Successfully installed websockets-13.1\n"
     ]
    }
   ],
   "source": [
    "!pip install websockets"
   ]
  },
  {
   "cell_type": "code",
   "execution_count": 3,
   "id": "792bd114-a9fe-4960-98c5-cdbe27021074",
   "metadata": {},
   "outputs": [
    {
     "name": "stdout",
     "output_type": "stream",
     "text": [
      "Requirement already satisfied: nest_asyncio in c:\\users\\matti\\onedrive\\documents\\github\\datascienzeproject\\ballon_d'or\\lib\\site-packages (1.6.0)\n"
     ]
    }
   ],
   "source": [
    "!pip install nest_asyncio"
   ]
  },
  {
   "cell_type": "code",
   "execution_count": 6,
   "id": "6c0a2c3c-0c6e-4eab-a859-fa4c41ed6803",
   "metadata": {},
   "outputs": [
    {
     "name": "stdout",
     "output_type": "stream",
     "text": [
      "Collecting cycle\n",
      "  Downloading cycle-0.1.0.tar.gz (16 kB)\n",
      "  Installing build dependencies: started\n",
      "  Installing build dependencies: finished with status 'done'\n",
      "  Getting requirements to build wheel: started\n",
      "  Getting requirements to build wheel: finished with status 'error'\n"
     ]
    },
    {
     "name": "stderr",
     "output_type": "stream",
     "text": [
      "  error: subprocess-exited-with-error\n",
      "  \n",
      "  Getting requirements to build wheel did not run successfully.\n",
      "  exit code: 1\n",
      "  \n",
      "  [22 lines of output]\n",
      "  Traceback (most recent call last):\n",
      "    File \"C:\\Users\\matti\\OneDrive\\Documents\\GitHub\\DataScienzeProject\\Ballon_d'Or\\Lib\\site-packages\\pip\\_vendor\\pyproject_hooks\\_in_process\\_in_process.py\", line 353, in <module>\n",
      "      main()\n",
      "    File \"C:\\Users\\matti\\OneDrive\\Documents\\GitHub\\DataScienzeProject\\Ballon_d'Or\\Lib\\site-packages\\pip\\_vendor\\pyproject_hooks\\_in_process\\_in_process.py\", line 335, in main\n",
      "      json_out['return_val'] = hook(**hook_input['kwargs'])\n",
      "                               ^^^^^^^^^^^^^^^^^^^^^^^^^^^^\n",
      "    File \"C:\\Users\\matti\\OneDrive\\Documents\\GitHub\\DataScienzeProject\\Ballon_d'Or\\Lib\\site-packages\\pip\\_vendor\\pyproject_hooks\\_in_process\\_in_process.py\", line 118, in get_requires_for_build_wheel\n",
      "      return hook(config_settings)\n",
      "             ^^^^^^^^^^^^^^^^^^^^^\n",
      "    File \"C:\\Users\\matti\\AppData\\Local\\Temp\\pip-build-env-sq2kv0q_\\overlay\\Lib\\site-packages\\setuptools\\build_meta.py\", line 333, in get_requires_for_build_wheel\n",
      "      return self._get_build_requires(config_settings, requirements=[])\n",
      "             ^^^^^^^^^^^^^^^^^^^^^^^^^^^^^^^^^^^^^^^^^^^^^^^^^^^^^^^^^^\n",
      "    File \"C:\\Users\\matti\\AppData\\Local\\Temp\\pip-build-env-sq2kv0q_\\overlay\\Lib\\site-packages\\setuptools\\build_meta.py\", line 303, in _get_build_requires\n",
      "      self.run_setup()\n",
      "    File \"C:\\Users\\matti\\AppData\\Local\\Temp\\pip-build-env-sq2kv0q_\\overlay\\Lib\\site-packages\\setuptools\\build_meta.py\", line 521, in run_setup\n",
      "      super().run_setup(setup_script=setup_script)\n",
      "    File \"C:\\Users\\matti\\AppData\\Local\\Temp\\pip-build-env-sq2kv0q_\\overlay\\Lib\\site-packages\\setuptools\\build_meta.py\", line 319, in run_setup\n",
      "      exec(code, locals())\n",
      "    File \"<string>\", line 38\n",
      "      print \"cycle only supports Python 2.7 and higher\"\n",
      "      ^^^^^^^^^^^^^^^^^^^^^^^^^^^^^^^^^^^^^^^^^^^^^^^^^\n",
      "  SyntaxError: Missing parentheses in call to 'print'. Did you mean print(...)?\n",
      "  [end of output]\n",
      "  \n",
      "  note: This error originates from a subprocess, and is likely not a problem with pip.\n",
      "error: subprocess-exited-with-error\n",
      "\n",
      "Getting requirements to build wheel did not run successfully.\n",
      "exit code: 1\n",
      "\n",
      "See above for output.\n",
      "\n",
      "note: This error originates from a subprocess, and is likely not a problem with pip.\n"
     ]
    }
   ],
   "source": [
    "!pip install cycle"
   ]
  },
  {
   "cell_type": "code",
   "execution_count": 1,
   "id": "fc358595-f4de-45ec-80c3-e215276757ec",
   "metadata": {},
   "outputs": [
    {
     "name": "stdout",
     "output_type": "stream",
     "text": [
      "Collecting webdriver-manager\n",
      "  Downloading webdriver_manager-4.0.2-py2.py3-none-any.whl.metadata (12 kB)\n",
      "Requirement already satisfied: requests in c:\\users\\matti\\onedrive\\documents\\github\\datascienzeproject\\ballon_d'or\\lib\\site-packages (from webdriver-manager) (2.32.3)\n",
      "Collecting python-dotenv (from webdriver-manager)\n",
      "  Downloading python_dotenv-1.0.1-py3-none-any.whl.metadata (23 kB)\n",
      "Requirement already satisfied: packaging in c:\\users\\matti\\onedrive\\documents\\github\\datascienzeproject\\ballon_d'or\\lib\\site-packages (from webdriver-manager) (24.1)\n",
      "Requirement already satisfied: charset-normalizer<4,>=2 in c:\\users\\matti\\onedrive\\documents\\github\\datascienzeproject\\ballon_d'or\\lib\\site-packages (from requests->webdriver-manager) (3.4.0)\n",
      "Requirement already satisfied: idna<4,>=2.5 in c:\\users\\matti\\onedrive\\documents\\github\\datascienzeproject\\ballon_d'or\\lib\\site-packages (from requests->webdriver-manager) (3.10)\n",
      "Requirement already satisfied: urllib3<3,>=1.21.1 in c:\\users\\matti\\onedrive\\documents\\github\\datascienzeproject\\ballon_d'or\\lib\\site-packages (from requests->webdriver-manager) (2.2.3)\n",
      "Requirement already satisfied: certifi>=2017.4.17 in c:\\users\\matti\\onedrive\\documents\\github\\datascienzeproject\\ballon_d'or\\lib\\site-packages (from requests->webdriver-manager) (2024.8.30)\n",
      "Downloading webdriver_manager-4.0.2-py2.py3-none-any.whl (27 kB)\n",
      "Downloading python_dotenv-1.0.1-py3-none-any.whl (19 kB)\n",
      "Installing collected packages: python-dotenv, webdriver-manager\n",
      "Successfully installed python-dotenv-1.0.1 webdriver-manager-4.0.2\n"
     ]
    }
   ],
   "source": [
    "!pip install webdriver-manager"
   ]
  },
  {
   "cell_type": "code",
   "execution_count": 2,
   "id": "858b5077-48d5-4512-8fec-92ebb29312a3",
   "metadata": {},
   "outputs": [
    {
     "name": "stdout",
     "output_type": "stream",
     "text": [
      "Collecting playwright\n",
      "  Downloading playwright-1.48.0-py3-none-win_amd64.whl.metadata (3.5 kB)\n",
      "Collecting greenlet==3.1.1 (from playwright)\n",
      "  Downloading greenlet-3.1.1-cp312-cp312-win_amd64.whl.metadata (3.9 kB)\n",
      "Collecting pyee==12.0.0 (from playwright)\n",
      "  Downloading pyee-12.0.0-py3-none-any.whl.metadata (2.8 kB)\n",
      "Requirement already satisfied: typing-extensions in c:\\users\\matti\\onedrive\\documents\\github\\datascienzeproject\\ballon_d'or\\lib\\site-packages (from pyee==12.0.0->playwright) (4.12.2)\n",
      "Downloading playwright-1.48.0-py3-none-win_amd64.whl (30.0 MB)\n",
      "   ---------------------------------------- 0.0/30.0 MB ? eta -:--:--\n",
      "   ---------------------------------------- 0.3/30.0 MB ? eta -:--:--\n",
      "   - -------------------------------------- 0.8/30.0 MB 2.8 MB/s eta 0:00:11\n",
      "   -- ------------------------------------- 1.6/30.0 MB 3.2 MB/s eta 0:00:09\n",
      "   --- ------------------------------------ 2.4/30.0 MB 3.3 MB/s eta 0:00:09\n",
      "   ---- ----------------------------------- 3.1/30.0 MB 3.5 MB/s eta 0:00:08\n",
      "   ----- ---------------------------------- 3.9/30.0 MB 3.6 MB/s eta 0:00:08\n",
      "   ------ --------------------------------- 5.0/30.0 MB 3.7 MB/s eta 0:00:07\n",
      "   -------- ------------------------------- 6.0/30.0 MB 3.9 MB/s eta 0:00:07\n",
      "   --------- ------------------------------ 7.1/30.0 MB 4.0 MB/s eta 0:00:06\n",
      "   ---------- ----------------------------- 8.1/30.0 MB 4.2 MB/s eta 0:00:06\n",
      "   ------------ --------------------------- 9.2/30.0 MB 4.3 MB/s eta 0:00:05\n",
      "   ------------- -------------------------- 10.2/30.0 MB 4.3 MB/s eta 0:00:05\n",
      "   --------------- ------------------------ 11.5/30.0 MB 4.4 MB/s eta 0:00:05\n",
      "   ---------------- ----------------------- 12.3/30.0 MB 4.4 MB/s eta 0:00:04\n",
      "   ----------------- ---------------------- 13.4/30.0 MB 4.5 MB/s eta 0:00:04\n",
      "   ------------------- -------------------- 14.4/30.0 MB 4.5 MB/s eta 0:00:04\n",
      "   -------------------- ------------------- 15.7/30.0 MB 4.5 MB/s eta 0:00:04\n",
      "   ---------------------- ----------------- 16.8/30.0 MB 4.6 MB/s eta 0:00:03\n",
      "   ----------------------- ---------------- 17.8/30.0 MB 4.6 MB/s eta 0:00:03\n",
      "   ------------------------- -------------- 18.9/30.0 MB 4.6 MB/s eta 0:00:03\n",
      "   -------------------------- ------------- 20.2/30.0 MB 4.7 MB/s eta 0:00:03\n",
      "   ---------------------------- ----------- 21.2/30.0 MB 4.7 MB/s eta 0:00:02\n",
      "   ----------------------------- ---------- 22.3/30.0 MB 4.7 MB/s eta 0:00:02\n",
      "   ------------------------------- -------- 23.3/30.0 MB 4.7 MB/s eta 0:00:02\n",
      "   -------------------------------- ------- 24.4/30.0 MB 4.7 MB/s eta 0:00:02\n",
      "   --------------------------------- ------ 25.4/30.0 MB 4.8 MB/s eta 0:00:01\n",
      "   ----------------------------------- ---- 26.5/30.0 MB 4.8 MB/s eta 0:00:01\n",
      "   ------------------------------------- -- 27.8/30.0 MB 4.8 MB/s eta 0:00:01\n",
      "   -------------------------------------- - 28.8/30.0 MB 4.8 MB/s eta 0:00:01\n",
      "   ---------------------------------------  29.9/30.0 MB 4.8 MB/s eta 0:00:01\n",
      "   ---------------------------------------- 30.0/30.0 MB 4.8 MB/s eta 0:00:00\n",
      "Downloading greenlet-3.1.1-cp312-cp312-win_amd64.whl (299 kB)\n",
      "Downloading pyee-12.0.0-py3-none-any.whl (14 kB)\n",
      "Installing collected packages: pyee, greenlet, playwright\n",
      "Successfully installed greenlet-3.1.1 playwright-1.48.0 pyee-12.0.0\n"
     ]
    }
   ],
   "source": [
    "!pip install playwright"
   ]
  },
  {
   "cell_type": "code",
   "execution_count": 3,
   "id": "2acce772-a65b-472b-ac13-5e719db3a38a",
   "metadata": {},
   "outputs": [
    {
     "name": "stdout",
     "output_type": "stream",
     "text": [
      "Collecting scrapy\n",
      "  Downloading Scrapy-2.11.2-py2.py3-none-any.whl.metadata (5.3 kB)\n",
      "Collecting Twisted>=18.9.0 (from scrapy)\n",
      "  Downloading twisted-24.10.0-py3-none-any.whl.metadata (20 kB)\n",
      "Collecting cryptography>=36.0.0 (from scrapy)\n",
      "  Downloading cryptography-43.0.3-cp39-abi3-win_amd64.whl.metadata (5.4 kB)\n",
      "Collecting cssselect>=0.9.1 (from scrapy)\n",
      "  Downloading cssselect-1.2.0-py2.py3-none-any.whl.metadata (2.2 kB)\n",
      "Collecting itemloaders>=1.0.1 (from scrapy)\n",
      "  Downloading itemloaders-1.3.2-py3-none-any.whl.metadata (3.9 kB)\n",
      "Collecting parsel>=1.5.0 (from scrapy)\n",
      "  Downloading parsel-1.9.1-py2.py3-none-any.whl.metadata (11 kB)\n",
      "Collecting pyOpenSSL>=21.0.0 (from scrapy)\n",
      "  Downloading pyOpenSSL-24.2.1-py3-none-any.whl.metadata (13 kB)\n",
      "Collecting queuelib>=1.4.2 (from scrapy)\n",
      "  Downloading queuelib-1.7.0-py2.py3-none-any.whl.metadata (5.7 kB)\n",
      "Collecting service-identity>=18.1.0 (from scrapy)\n",
      "  Downloading service_identity-24.2.0-py3-none-any.whl.metadata (5.1 kB)\n",
      "Collecting w3lib>=1.17.0 (from scrapy)\n",
      "  Downloading w3lib-2.2.1-py3-none-any.whl.metadata (2.1 kB)\n",
      "Collecting zope.interface>=5.1.0 (from scrapy)\n",
      "  Downloading zope.interface-7.1.1-cp312-cp312-win_amd64.whl.metadata (45 kB)\n",
      "Collecting protego>=0.1.15 (from scrapy)\n",
      "  Downloading Protego-0.3.1-py2.py3-none-any.whl.metadata (5.9 kB)\n",
      "Collecting itemadapter>=0.1.0 (from scrapy)\n",
      "  Downloading itemadapter-0.9.0-py3-none-any.whl.metadata (17 kB)\n",
      "Requirement already satisfied: setuptools in c:\\users\\matti\\onedrive\\documents\\github\\datascienzeproject\\ballon_d'or\\lib\\site-packages (from scrapy) (75.3.0)\n",
      "Requirement already satisfied: packaging in c:\\users\\matti\\onedrive\\documents\\github\\datascienzeproject\\ballon_d'or\\lib\\site-packages (from scrapy) (24.1)\n",
      "Collecting tldextract (from scrapy)\n",
      "  Downloading tldextract-5.1.3-py3-none-any.whl.metadata (11 kB)\n",
      "Collecting lxml>=4.4.1 (from scrapy)\n",
      "  Downloading lxml-5.3.0-cp312-cp312-win_amd64.whl.metadata (3.9 kB)\n",
      "Requirement already satisfied: defusedxml>=0.7.1 in c:\\users\\matti\\onedrive\\documents\\github\\datascienzeproject\\ballon_d'or\\lib\\site-packages (from scrapy) (0.7.1)\n",
      "Collecting PyDispatcher>=2.0.5 (from scrapy)\n",
      "  Downloading PyDispatcher-2.0.7-py3-none-any.whl.metadata (2.4 kB)\n",
      "Requirement already satisfied: cffi>=1.12 in c:\\users\\matti\\onedrive\\documents\\github\\datascienzeproject\\ballon_d'or\\lib\\site-packages (from cryptography>=36.0.0->scrapy) (1.17.1)\n",
      "Collecting jmespath>=0.9.5 (from itemloaders>=1.0.1->scrapy)\n",
      "  Downloading jmespath-1.0.1-py3-none-any.whl.metadata (7.6 kB)\n",
      "Requirement already satisfied: attrs>=19.1.0 in c:\\users\\matti\\onedrive\\documents\\github\\datascienzeproject\\ballon_d'or\\lib\\site-packages (from service-identity>=18.1.0->scrapy) (24.2.0)\n",
      "Collecting pyasn1 (from service-identity>=18.1.0->scrapy)\n",
      "  Downloading pyasn1-0.6.1-py3-none-any.whl.metadata (8.4 kB)\n",
      "Collecting pyasn1-modules (from service-identity>=18.1.0->scrapy)\n",
      "  Downloading pyasn1_modules-0.4.1-py3-none-any.whl.metadata (3.5 kB)\n",
      "Collecting automat>=24.8.0 (from Twisted>=18.9.0->scrapy)\n",
      "  Downloading Automat-24.8.1-py3-none-any.whl.metadata (8.4 kB)\n",
      "Collecting constantly>=15.1 (from Twisted>=18.9.0->scrapy)\n",
      "  Downloading constantly-23.10.4-py3-none-any.whl.metadata (1.8 kB)\n",
      "Collecting hyperlink>=17.1.1 (from Twisted>=18.9.0->scrapy)\n",
      "  Downloading hyperlink-21.0.0-py2.py3-none-any.whl.metadata (1.5 kB)\n",
      "Collecting incremental>=24.7.0 (from Twisted>=18.9.0->scrapy)\n",
      "  Downloading incremental-24.7.2-py3-none-any.whl.metadata (8.1 kB)\n",
      "Requirement already satisfied: typing-extensions>=4.2.0 in c:\\users\\matti\\onedrive\\documents\\github\\datascienzeproject\\ballon_d'or\\lib\\site-packages (from Twisted>=18.9.0->scrapy) (4.12.2)\n",
      "Requirement already satisfied: idna in c:\\users\\matti\\onedrive\\documents\\github\\datascienzeproject\\ballon_d'or\\lib\\site-packages (from tldextract->scrapy) (3.10)\n",
      "Requirement already satisfied: requests>=2.1.0 in c:\\users\\matti\\onedrive\\documents\\github\\datascienzeproject\\ballon_d'or\\lib\\site-packages (from tldextract->scrapy) (2.32.3)\n",
      "Collecting requests-file>=1.4 (from tldextract->scrapy)\n",
      "  Downloading requests_file-2.1.0-py2.py3-none-any.whl.metadata (1.7 kB)\n",
      "Collecting filelock>=3.0.8 (from tldextract->scrapy)\n",
      "  Downloading filelock-3.16.1-py3-none-any.whl.metadata (2.9 kB)\n",
      "Requirement already satisfied: pycparser in c:\\users\\matti\\onedrive\\documents\\github\\datascienzeproject\\ballon_d'or\\lib\\site-packages (from cffi>=1.12->cryptography>=36.0.0->scrapy) (2.22)\n",
      "Requirement already satisfied: charset-normalizer<4,>=2 in c:\\users\\matti\\onedrive\\documents\\github\\datascienzeproject\\ballon_d'or\\lib\\site-packages (from requests>=2.1.0->tldextract->scrapy) (3.4.0)\n",
      "Requirement already satisfied: urllib3<3,>=1.21.1 in c:\\users\\matti\\onedrive\\documents\\github\\datascienzeproject\\ballon_d'or\\lib\\site-packages (from requests>=2.1.0->tldextract->scrapy) (2.2.3)\n",
      "Requirement already satisfied: certifi>=2017.4.17 in c:\\users\\matti\\onedrive\\documents\\github\\datascienzeproject\\ballon_d'or\\lib\\site-packages (from requests>=2.1.0->tldextract->scrapy) (2024.8.30)\n",
      "Downloading Scrapy-2.11.2-py2.py3-none-any.whl (290 kB)\n",
      "Downloading cryptography-43.0.3-cp39-abi3-win_amd64.whl (3.1 MB)\n",
      "   ---------------------------------------- 0.0/3.1 MB ? eta -:--:--\n",
      "   --- ------------------------------------ 0.3/3.1 MB ? eta -:--:--\n",
      "   ------ --------------------------------- 0.5/3.1 MB 1.4 MB/s eta 0:00:02\n",
      "   ---------- ----------------------------- 0.8/3.1 MB 1.6 MB/s eta 0:00:02\n",
      "   ----------------- ---------------------- 1.3/3.1 MB 1.7 MB/s eta 0:00:02\n",
      "   -------------------- ------------------- 1.6/3.1 MB 1.8 MB/s eta 0:00:01\n",
      "   ------------------------------ --------- 2.4/3.1 MB 2.0 MB/s eta 0:00:01\n",
      "   ---------------------------------- ----- 2.6/3.1 MB 1.9 MB/s eta 0:00:01\n",
      "   ---------------------------------------- 3.1/3.1 MB 2.0 MB/s eta 0:00:00\n",
      "Downloading cssselect-1.2.0-py2.py3-none-any.whl (18 kB)\n",
      "Downloading itemadapter-0.9.0-py3-none-any.whl (11 kB)\n",
      "Downloading itemloaders-1.3.2-py3-none-any.whl (12 kB)\n",
      "Downloading lxml-5.3.0-cp312-cp312-win_amd64.whl (3.8 MB)\n",
      "   ---------------------------------------- 0.0/3.8 MB ? eta -:--:--\n",
      "   ----- ---------------------------------- 0.5/3.8 MB 3.3 MB/s eta 0:00:01\n",
      "   ------------- -------------------------- 1.3/3.8 MB 3.2 MB/s eta 0:00:01\n",
      "   --------------------- ------------------ 2.1/3.8 MB 3.4 MB/s eta 0:00:01\n",
      "   ------------------------------ --------- 2.9/3.8 MB 3.5 MB/s eta 0:00:01\n",
      "   -------------------------------------- - 3.7/3.8 MB 3.6 MB/s eta 0:00:01\n",
      "   ---------------------------------------- 3.8/3.8 MB 3.6 MB/s eta 0:00:00\n",
      "Downloading parsel-1.9.1-py2.py3-none-any.whl (17 kB)\n",
      "Downloading Protego-0.3.1-py2.py3-none-any.whl (8.5 kB)\n",
      "Downloading PyDispatcher-2.0.7-py3-none-any.whl (12 kB)\n",
      "Downloading pyOpenSSL-24.2.1-py3-none-any.whl (58 kB)\n",
      "Downloading queuelib-1.7.0-py2.py3-none-any.whl (13 kB)\n",
      "Downloading service_identity-24.2.0-py3-none-any.whl (11 kB)\n",
      "Downloading twisted-24.10.0-py3-none-any.whl (3.2 MB)\n",
      "   ---------------------------------------- 0.0/3.2 MB ? eta -:--:--\n",
      "   ------ --------------------------------- 0.5/3.2 MB 4.2 MB/s eta 0:00:01\n",
      "   ------------------- -------------------- 1.6/3.2 MB 4.4 MB/s eta 0:00:01\n",
      "   -------------------------------- ------- 2.6/3.2 MB 4.7 MB/s eta 0:00:01\n",
      "   ---------------------------------------- 3.2/3.2 MB 4.7 MB/s eta 0:00:00\n",
      "Downloading w3lib-2.2.1-py3-none-any.whl (21 kB)\n",
      "Downloading zope.interface-7.1.1-cp312-cp312-win_amd64.whl (212 kB)\n",
      "Downloading tldextract-5.1.3-py3-none-any.whl (104 kB)\n",
      "Downloading Automat-24.8.1-py3-none-any.whl (42 kB)\n",
      "Downloading constantly-23.10.4-py3-none-any.whl (13 kB)\n",
      "Downloading filelock-3.16.1-py3-none-any.whl (16 kB)\n",
      "Downloading hyperlink-21.0.0-py2.py3-none-any.whl (74 kB)\n",
      "Downloading incremental-24.7.2-py3-none-any.whl (20 kB)\n",
      "Downloading jmespath-1.0.1-py3-none-any.whl (20 kB)\n",
      "Downloading requests_file-2.1.0-py2.py3-none-any.whl (4.2 kB)\n",
      "Downloading pyasn1-0.6.1-py3-none-any.whl (83 kB)\n",
      "Downloading pyasn1_modules-0.4.1-py3-none-any.whl (181 kB)\n",
      "Installing collected packages: PyDispatcher, zope.interface, w3lib, queuelib, pyasn1, protego, lxml, jmespath, itemadapter, incremental, hyperlink, filelock, cssselect, constantly, automat, Twisted, requests-file, pyasn1-modules, parsel, cryptography, tldextract, service-identity, pyOpenSSL, itemloaders, scrapy\n",
      "Successfully installed PyDispatcher-2.0.7 Twisted-24.10.0 automat-24.8.1 constantly-23.10.4 cryptography-43.0.3 cssselect-1.2.0 filelock-3.16.1 hyperlink-21.0.0 incremental-24.7.2 itemadapter-0.9.0 itemloaders-1.3.2 jmespath-1.0.1 lxml-5.3.0 parsel-1.9.1 protego-0.3.1 pyOpenSSL-24.2.1 pyasn1-0.6.1 pyasn1-modules-0.4.1 queuelib-1.7.0 requests-file-2.1.0 scrapy-2.11.2 service-identity-24.2.0 tldextract-5.1.3 w3lib-2.2.1 zope.interface-7.1.1\n"
     ]
    }
   ],
   "source": [
    "!pip install scrapy\n"
   ]
  }
 ],
 "metadata": {
  "kernelspec": {
   "display_name": "Python 3 (ipykernel)",
   "language": "python",
   "name": "python3"
  },
  "language_info": {
   "codemirror_mode": {
    "name": "ipython",
    "version": 3
   },
   "file_extension": ".py",
   "mimetype": "text/x-python",
   "name": "python",
   "nbconvert_exporter": "python",
   "pygments_lexer": "ipython3",
   "version": "3.12.2"
  }
 },
 "nbformat": 4,
 "nbformat_minor": 5
}
