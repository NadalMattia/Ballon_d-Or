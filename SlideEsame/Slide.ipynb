{
 "cells": [
  {
   "cell_type": "code",
   "execution_count": null,
   "id": "add68a2c-10e6-47de-9b83-47ef9c68837e",
   "metadata": {
    "editable": true,
    "slideshow": {
     "slide_type": "skip"
    },
    "tags": []
   },
   "outputs": [],
   "source": [
    "#Manipolazione Dati\n",
    "import geopandas as gpd\n",
    "import pandas as pd\n",
    "import matplotlib.colors as mcolors\n",
    "import matplotlib.pyplot as plt\n",
    "import matplotlib.cm as cm\n",
    "from matplotlib.colors import LinearSegmentedColormap\n",
    "import seaborn as sns\n",
    "from itertools import groupby\n",
    "import plotly.graph_objects as go\n",
    "import plotly.express as px\n",
    "import plotly.io as pio\n",
    "#Manipolazione HTML\n",
    "from IPython.display import display, HTML, Markdown\n",
    "import io\n",
    "import base64"
   ]
  },
  {
   "cell_type": "markdown",
   "id": "41a0f05a-e738-4c3f-acec-144475f74092",
   "metadata": {
    "editable": true,
    "slideshow": {
     "slide_type": "slide"
    },
    "tags": []
   },
   "source": [
    "Mattia Nadal - 167372 <br>\n",
    "Università degli Studi di Udine - A.A. 2024/2025\n",
    "# Analisi sui dati dei vincitori del Pallone D'oro maschile 1956-2024"
   ]
  },
  {
   "cell_type": "markdown",
   "id": "f8756e6f-3828-4c4c-853a-b9a1f56d7756",
   "metadata": {
    "editable": true,
    "slideshow": {
     "slide_type": "slide"
    },
    "tags": []
   },
   "source": [
    "## Perchè analizzare i vincitori?\n",
    "* L'interesse per il calcio\n",
    "* Il desiderio di capire l'evoluzione che il trofeo ha avuto\n",
    "* Quali sono le carattestiche più comuni dei vincitori"
   ]
  },
  {
   "cell_type": "markdown",
   "id": "8ef28282-5e76-40a0-b51e-2ba4abe45c6a",
   "metadata": {
    "editable": true,
    "slideshow": {
     "slide_type": "slide"
    },
    "tags": []
   },
   "source": [
    "## I dataset:\n",
    "* Datset iniziale reperibile su Kagle a questo [indirizzo](https://www.kaggle.com/datasets/seriadiallo1/ballon-dor):\n",
    "  * Nome: ballon d'or\n",
    "  * Creatore: Sadialiou Diallo\n",
    "  * Anno: 2020\n",
    "* Dataset ulteriori creati tramite web scraping dai seguenti siti:\n",
    "  * [Wikipedia](https://it.wikipedia.org/wiki/Pallone_d%27oro)\n",
    "  * [Transfermarkt](https://www.transfermarkt.it/)"
   ]
  },
  {
   "cell_type": "markdown",
   "id": "8ff8361a-c95e-43bb-bd62-1711564eb306",
   "metadata": {
    "editable": true,
    "slideshow": {
     "slide_type": "subslide"
    },
    "tags": []
   },
   "source": [
    "### Dati rilevanti\n",
    "* Generalità giocatore (Nome giocatore, Età, Nazionalità)\n",
    "* Caratteristiche giocatore (Squadra di appartenenza, Ruolo)\n",
    "* Posizionamento sul podio (Rank per anno)\n",
    "* Competizioni vinte per anno (Campionato, Coppa nazionale, Campionati internazionali...)"
   ]
  },
  {
   "cell_type": "markdown",
   "id": "e6a1f90f-081a-48c7-8912-a0857b2df516",
   "metadata": {
    "editable": true,
    "slideshow": {
     "slide_type": "slide"
    },
    "tags": []
   },
   "source": [
    "## Domande\n",
    "1. Quali nazioni hanno vinto più palloni d'oro?\n",
    "2. Come sono disdribuiti sul podio i giocatori in rapporto alla nazionalità?\n",
    "3. Con quali trofei si hanno più possibilità di vincere il premio?"
   ]
  },
  {
   "cell_type": "markdown",
   "id": "1a97c930-9a4c-4e15-83d3-c23dca9c98cd",
   "metadata": {
    "editable": true,
    "slideshow": {
     "slide_type": "slide"
    },
    "tags": []
   },
   "source": [
    "# 1. Quali nazioni hanno vinto più palloni d'oro?\n",
    "### Premessa\n",
    "Nel corso del tempo, il metodo di votazione è cambiato più volte per riflettere l'evoluzione del calcio e aumentare l'equità e la rappresentatività del premio:\n",
    "* 1956–1994: Giuria di Giornalisti Europei\n",
    "* 1995-2009: Globalizzazione della Giuria\n",
    "* 2010-2015: Fusione con il FIFA World Player\n",
    "* 2016-oggi: Limitata ai giornalisti dei primi 100 paesi nella classifica FIFA maschile\n"
   ]
  },
  {
   "cell_type": "code",
   "execution_count": null,
   "id": "e6da8be4-482a-4d1f-a789-f069a64f23c4",
   "metadata": {
    "editable": true,
    "slideshow": {
     "slide_type": "skip"
    },
    "tags": []
   },
   "outputs": [],
   "source": [
    "gold_gradient = LinearSegmentedColormap.from_list(\n",
    "    \"gold_gradient\",\n",
    "    [\"#fff8dc\", \"#ffd700\", \"#b8860b\"]  # Chiaro (cornsilk), oro, oro scuro\n",
    ")"
   ]
  },
  {
   "cell_type": "code",
   "execution_count": null,
   "id": "c08251ec-bd16-435b-84ab-eff0839ecfd6",
   "metadata": {
    "editable": true,
    "scrolled": true,
    "slideshow": {
     "slide_type": "subslide"
    },
    "tags": [
     "hide_input"
    ]
   },
   "outputs": [],
   "source": [
    "display(Markdown(\"Visualizziamo quali nazioni tra il 1956 e il 1994 hanno vinto il premio\"))\n",
    "\n",
    "#Lettura file geojson\n",
    "mappaEuropea = gpd.read_file(\"../Grafici/world_pre1995.geojson\")\n",
    "\n",
    "# Colori da usare per il gradiente oro\n",
    "cmap = gold_gradient\n",
    "# Filtra solo gli stati da colorare (escludi quelli bianchi)\n",
    "mappa_da_colorare = mappaEuropea[mappaEuropea['color'].str.upper() != '#FFFFFF']\n",
    "# Normalizzazione sui soli stati da colorare\n",
    "norm = mcolors.Normalize(\n",
    "    vmin=mappa_da_colorare['Numero'].min(),\n",
    "    vmax=mappa_da_colorare['Numero'].max()\n",
    ")\n",
    "# Assegna nuovi colori (solo a quelli che non sono bianchi)\n",
    "mappaEuropea['color'] = mappaEuropea.apply(\n",
    "    lambda row: cmap(norm(row['Numero'])) if row['color'].upper() != '#FFFFFF' else 'whitesmoke',\n",
    "    axis=1\n",
    ")\n",
    "\n",
    "# Crea la mappa con i colori specificati e bordi neri con una linea sottile\n",
    "fig, ax = plt.subplots(1, 1, figsize=(5, 10))\n",
    "mappaEuropea.boundary.plot(ax=ax, linewidth=0.1, color='black')  # Linea dei bordi sottile\n",
    "mappaEuropea.plot(ax=ax, color=mappaEuropea['color'], edgecolor='black')\n",
    "\n",
    "# Aggiungere la legenda manualmente\n",
    "sm = plt.cm.ScalarMappable(cmap=cmap, norm=norm)\n",
    "sm.set_array([])\n",
    "cbar = fig.colorbar(sm, ax=ax, orientation='horizontal', fraction=0.036, pad=0.04)\n",
    "cbar.set_label('Occorrenze vincitori per nazione', size = 15)  # <-- dimensione dell’etichetta\n",
    "ax.set_title('Nazioni con giocatori vicenti fino al 1994', size = 15)\n",
    "ax.set_facecolor('azure')  # Imposta il colore di sfondo a azzurrino chiaro\n",
    "plt.tight_layout()  # Per togliere spazi bianchi inutili\n",
    "\n",
    "# Mostra la mappa\n",
    "# Salva la figura in un buffer\n",
    "buf = io.BytesIO()\n",
    "plt.savefig(buf, format='png', bbox_inches='tight')\n",
    "buf.seek(0)\n",
    "img_base64 = base64.b64encode(buf.read()).decode('utf-8')\n",
    "buf.close()\n",
    "plt.close(fig)\n",
    "\n",
    "# Mostra immagine centrata\n",
    "display(HTML(f\"\"\"\n",
    "<div style=\"display: flex; justify-content: center;\">\n",
    "    <img src=\"data:image/png;base64,{img_base64}\"/>\n",
    "</div>\n",
    "\"\"\"))"
   ]
  },
  {
   "cell_type": "code",
   "execution_count": null,
   "id": "dec5890c-cb00-4e90-a1c0-e894ae5860f9",
   "metadata": {
    "editable": true,
    "slideshow": {
     "slide_type": "subslide"
    },
    "tags": [
     "hide_input"
    ]
   },
   "outputs": [],
   "source": [
    "display(Markdown(\"Visualizziamo quali nazioni dal 1995 ad oggi hanno vinto il premio\"))\n",
    "\n",
    "#Lettura file geojson\n",
    "mappaMondo = gpd.read_file(\"../Grafici/world_post1995.geojson\")\n",
    "\n",
    "#Mappa colori\n",
    "cmap = gold_gradient\n",
    "# Filtra solo gli stati da colorare (escludi quelli bianchi)\n",
    "mappa_da_colorare = mappaMondo[mappaMondo['color'].str.upper() != '#FFFFFF']\n",
    "# Normalizzazione sui soli stati da colorare\n",
    "norm = mcolors.Normalize(\n",
    "    vmin=mappa_da_colorare['Numero'].min(),\n",
    "    vmax=mappa_da_colorare['Numero'].max()\n",
    ")\n",
    "# Assegna nuovi colori (solo a quelli che non sono bianchi)\n",
    "mappaMondo['color'] = mappaMondo.apply(\n",
    "    lambda row: cmap(norm(row['Numero'])) if row['color'].upper() != '#FFFFFF' else 'whitesmoke',\n",
    "    axis=1\n",
    ")\n",
    "\n",
    "# Inizializza figure\n",
    "fig = go.Figure()\n",
    "\n",
    "# Crea la mappa con i colori specificati e bordi neri con una linea sottile\n",
    "fig, ax = plt.subplots(1, 1, figsize=(13, 12))\n",
    "mappaMondo.boundary.plot(ax=ax, linewidth=0.1, color='black')  # Linea dei bordi sottile\n",
    "mappaMondo.plot(ax=ax, color=mappaMondo['color'], edgecolor='black')\n",
    "\n",
    "# Aggiungere la legenda manualmente\n",
    "sm = plt.cm.ScalarMappable(cmap=cmap, norm=norm)\n",
    "sm.set_array([])\n",
    "cbar = fig.colorbar(sm, ax=ax, orientation='horizontal', fraction=0.04, pad=0.04)\n",
    "# Imposta dimensione del testo della legenda\n",
    "cbar.ax.tick_params(labelsize=10)  # <-- dimensione dei numeri\n",
    "cbar.set_label('Occorrenze vincitori per nazione', size = 15)  # <-- dimensione dell’etichetta\n",
    "ax.set_title('Nazioni con giocatori vicenti dal 1995 ad oggi', size = 20)\n",
    "ax.set_facecolor('azure')  # Imposta il colore di sfondo a azzurrino chiaro\n",
    "\n",
    "# Salva la figura in un buffer\n",
    "buf = io.BytesIO()\n",
    "plt.savefig(buf, format='png', bbox_inches='tight')\n",
    "buf.seek(0)\n",
    "img_base64 = base64.b64encode(buf.read()).decode('utf-8')\n",
    "buf.close()\n",
    "plt.close(fig)\n",
    "\n",
    "# Mostra immagine centrata\n",
    "display(HTML(f\"\"\"\n",
    "<div style=\"display: flex; justify-content: center;\">\n",
    "    <img src=\"data:image/png;base64,{img_base64}\"/>\n",
    "</div>\n",
    "\"\"\"))"
   ]
  },
  {
   "cell_type": "code",
   "execution_count": null,
   "id": "5366b688-27c8-429f-a12f-8174899b293a",
   "metadata": {},
   "outputs": [],
   "source": [
    "import plotly.express as px\n",
    "\n",
    "df = px.data.election()\n",
    "geojson = px.data.election_geojson()\n",
    "\n",
    "fig = px.choropleth(df, geojson=geojson, color=\"winner\",\n",
    "                    locations=\"district\", featureidkey=\"properties.district\",\n",
    "                    projection=\"mercator\", hover_data=[\"Bergeron\", \"Coderre\", \"Joly\"]\n",
    "                   )"
   ]
  },
  {
   "cell_type": "markdown",
   "id": "9b35e416-5f5d-4da1-a18f-82420bbb498b",
   "metadata": {
    "editable": true,
    "slideshow": {
     "slide_type": "slide"
    },
    "tags": []
   },
   "source": [
    "# 2. Come sono disdribuiti sul podio i giocatori in rapporto alla nazionalità?\n"
   ]
  },
  {
   "cell_type": "code",
   "execution_count": null,
   "id": "399f536d-35e4-42e1-b1a2-892d838e3fca",
   "metadata": {
    "editable": true,
    "slideshow": {
     "slide_type": "subslide"
    },
    "tags": [
     "hide_input"
    ]
   },
   "outputs": [],
   "source": [
    "display(Markdown(\"Visualizziamo una Heapmap che confronta i ruoli dei giocatori in rapporto alla nazionalità\"))\n",
    "\n",
    "df = pd.read_csv('../Dataset/dfHeapmap.csv')\n",
    "\n",
    "# --- Funzioni per etichette raggruppate ---\n",
    "def add_line(ax, xpos, ypos):\n",
    "    line = plt.Line2D([ypos, ypos + 0.2], [xpos, xpos], color='black', transform=ax.transAxes)\n",
    "    line.set_clip_on(False)\n",
    "    ax.add_line(line)\n",
    "\n",
    "def label_len(my_index, level):\n",
    "    labels = my_index.get_level_values(level)\n",
    "    return [(k, sum(1 for _ in g)) for k, g in groupby(labels)]\n",
    "\n",
    "def label_group_bar_table(ax, df):\n",
    "    xpos = -0.2\n",
    "    scale = 1. / df.index.size\n",
    "    for level in range(df.index.nlevels):\n",
    "        pos = df.index.size\n",
    "        for label, rpos in label_len(df.index, level):\n",
    "            add_line(ax, pos * scale, xpos)\n",
    "            pos -= rpos\n",
    "            lypos = (pos + 0.5 * rpos) * scale\n",
    "            ax.text(xpos + 0.1, lypos, label, ha='center', transform=ax.transAxes)\n",
    "        add_line(ax, pos * scale, xpos)\n",
    "        xpos -= 0.2\n",
    "\n",
    "# --- Crea pivot table con MultiIndex per heatmap ---\n",
    "df_pivot = df.pivot_table(index=['role', 'rank'], columns='nazionality', values='counter', aggfunc='sum').fillna(0)\n",
    "df_pivot = df_pivot[df_pivot.sum(axis=0).sort_values(ascending=False).index]\n",
    "\n",
    "# --- Visualizzazione con heatmap e raggruppamento etichette ---\n",
    "fig = plt.figure(figsize=(12, 10))\n",
    "ax = fig.add_subplot(111)\n",
    "sns.heatmap(df_pivot, ax=ax, annot=True, fmt=\".0f\", cmap='YlOrBr', linewidths=1, linecolor='gray')\n",
    "# Rimuove le etichette automatiche sull'asse Y\n",
    "ax.set_yticklabels(['' for _ in ax.get_yticklabels()])\n",
    "ax.set_ylabel('')\n",
    "\n",
    "# Aggiunge le etichette raggruppate\n",
    "label_group_bar_table(ax, df_pivot)\n",
    "\n",
    "fig.subplots_adjust(bottom=0.1 * df_pivot.index.nlevels)\n",
    "plt.title('Distribuzione delle frequenze dei giocatori per ruolo, rank e nazionalità', fontsize=14)\n",
    "\n",
    "buf = io.BytesIO()\n",
    "plt.savefig(buf, format='png', bbox_inches='tight')\n",
    "buf.seek(0)\n",
    "img_base64 = base64.b64encode(buf.read()).decode('utf-8')\n",
    "buf.close()\n",
    "plt.close(fig)\n",
    "\n",
    "# Mostra immagine centrata\n",
    "display(HTML(f\"\"\"\n",
    "<div style=\"display: flex; justify-content: center;\">\n",
    "    <img src=\"data:image/png;base64,{img_base64}\"/>\n",
    "</div>\n",
    "\"\"\"))"
   ]
  },
  {
   "cell_type": "markdown",
   "id": "d4400f0c-b477-4753-831f-8453374db037",
   "metadata": {
    "editable": true,
    "slideshow": {
     "slide_type": "slide"
    },
    "tags": []
   },
   "source": [
    "# 3. Con quali trofei si hanno più possibilità di vincere il premio?"
   ]
  },
  {
   "cell_type": "code",
   "execution_count": null,
   "id": "25cf2dce-db36-4f69-b226-fb8c205a23ce",
   "metadata": {
    "editable": true,
    "slideshow": {
     "slide_type": "subslide"
    },
    "tags": [
     "hide_input"
    ]
   },
   "outputs": [],
   "source": [
    "display(Markdown(\"Visualizziamo un barplot che confronta la posizione nel podio con la competizione\"))\n",
    "\n",
    "# Carica il dataset\n",
    "df = pd.read_csv('../Dataset/dfTrophiesBarPlot.csv')\n",
    "\n",
    "# Definizione dei periodi\n",
    "periods = ['pre-1994', '1995–2009', '2010–2015', 'post-2016']\n",
    "\n",
    "# Titoli leggibili per il menu\n",
    "period_titles = {\n",
    "    'pre-1994': 'Prima del 1995',\n",
    "    '1995–2009': '1995–2009',\n",
    "    '2010–2015': '2010–2015',\n",
    "    'post-2016': 'Dal 2016 ad oggi'\n",
    "}\n",
    "\n",
    "# Colori personalizzati\n",
    "rank_colors = {\n",
    "    '1st': '#FFD700',   # Oro\n",
    "    '2nd': '#C0C0C0',   # Argento\n",
    "    '3rd': '#CD7F32'    # Bronzo\n",
    "}\n",
    "\n",
    "# Inizializza figure\n",
    "fig = go.Figure()\n",
    "\n",
    "# Per ogni periodo, crea le tracce (una per ogni Rank)\n",
    "for i, period in enumerate(periods):\n",
    "    df_period = df[df['Periodo'] == period]\n",
    "    \n",
    "    for rank in ['1st', '2nd', '3rd']:\n",
    "        df_rank = df_period[df_period['Rank'] == rank]\n",
    "        fig.add_trace(go.Bar(\n",
    "            x=df_rank['Competizione'],\n",
    "            y=df_rank['Count'],\n",
    "            name=rank,\n",
    "            marker_color=rank_colors[rank],\n",
    "            visible=True if i == 0 else False  # Solo il primo periodo è visibile inizialmente\n",
    "        ))\n",
    "\n",
    "\n",
    "# Crea i pulsanti del menu a tendina\n",
    "buttons = []\n",
    "for i, period in enumerate(periods):\n",
    "    visibility = [False] * len(periods) * 3  # 3 Rank per periodo\n",
    "    start = i * 3\n",
    "    visibility[start:start+3] = [True, True, True]\n",
    "\n",
    "    buttons.append(dict(\n",
    "        label=period_titles[period],\n",
    "        method=\"update\",\n",
    "        args=[\n",
    "            {\"visible\": visibility},\n",
    "            {\"title.text\": f\"Posizionamenti per Competizione - {period_titles[period]}\"}   #Aggiornamento del titolo\n",
    "        ]\n",
    "    ))\n",
    "\n",
    "# Layout con menu\n",
    "fig.update_layout(\n",
    "    width=800,    #NON TOCCARE\n",
    "    height=500,   #NON TOCCARE\n",
    "    updatemenus=[\n",
    "        dict(\n",
    "            buttons=buttons,\n",
    "            direction=\"down\",\n",
    "            showactive=True,\n",
    "            x=1,            # Centra orizzontalmente\n",
    "            #xanchor=\"right\",\n",
    "            y=1.01,            # Posiziona sul grafico\n",
    "            yanchor=\"bottom\",\n",
    "            font=dict(size=10)  # Riduci la dimensione del testo del menu\n",
    "        )\n",
    "    ],\n",
    "    barmode='group',\n",
    "    title=dict(\n",
    "        text=f\"Posizionamenti per Competizione - {period_titles[periods[0]]}\",\n",
    "        x=0.5,                # Centra il titolo orizzontalmente\n",
    "        xanchor='center',     # Ancoraggio centrale per precisione\n",
    "        font=dict(color='black')  # (Facoltativo) colore del titolo\n",
    "    ),\n",
    "    xaxis=dict(\n",
    "        title ='Competizione',\n",
    "        showline=True,        # Mostra la linea dell'asse\n",
    "        linecolor='black',    # Colore della linea dell'asse\n",
    "        ticks='outside',      # Direzione esterna per i tick\n",
    "        ticklen=5,            # Lunghezza dei tick in pixel\n",
    "        tickwidth=1,          # Spessore dei tick\n",
    "        tickcolor='black',    # Colore dei tick\n",
    "        color='black',        # Colore del testo delle etichette\n",
    "        tickfont=dict(color='black')\n",
    "    ),\n",
    "    yaxis=dict(\n",
    "        title='Numero di volte sul podio',\n",
    "        showline=True,\n",
    "        linecolor='black',\n",
    "        ticks='outside',\n",
    "        ticklen=5,\n",
    "        tickwidth=1,\n",
    "        tickcolor='black',\n",
    "        color='black',\n",
    "        tickfont=dict(color='black'),\n",
    "        tickformat='.0f',\n",
    "        dtick=1,\n",
    "        showgrid=True,           # Mostra linee orizzontali della griglia\n",
    "        gridcolor='lightgray'\n",
    "    ),\n",
    "    plot_bgcolor='white'\n",
    ")\n",
    "\n",
    "#Mostra grafici con configurazione personalizzata della toolbar\n",
    "config = {\n",
    "    'modeBarButtonsToRemove': [\n",
    "        'zoomOut2d', 'autoScale2d', 'toggleSpikelines',\n",
    "        'hoverCompareCartesian', 'pan2d', 'zoomIn2d',\n",
    "        'select2d', 'lasso2d', 'sendDataToCloud', 'toImage'\n",
    "    ],\n",
    "    'displaylogo': False  # Rimuove il logo di Plotly\n",
    "}\n",
    "#Mostra grafici\n",
    "html_graph = fig.to_html(full_html=False, config=config) # Genera il codice HTML interattivo del grafico\n",
    "display(HTML(html_graph))"
   ]
  },
  {
   "cell_type": "markdown",
   "id": "153bda8f-c9ef-4c9c-814e-14d141061839",
   "metadata": {
    "editable": true,
    "slideshow": {
     "slide_type": "slide"
    },
    "tags": []
   },
   "source": [
    "# Conclusioni\n",
    "### Quali sono i risultati delle analisi?"
   ]
  },
  {
   "cell_type": "code",
   "execution_count": null,
   "id": "40e6c2b4-0f0b-4552-b67d-8a205a38e23e",
   "metadata": {
    "editable": true,
    "slideshow": {
     "slide_type": "skip"
    },
    "tags": [
     "hide_input"
    ]
   },
   "outputs": [],
   "source": [
    "!jupyter nbconvert Slide.ipynb --to slides \\\n",
    "--TagRemovePreprocessor.enabled=True \\\n",
    "--TagRemovePreprocessor.remove_input_tags='{\"hide_input\"}' \\\n",
    "--SlidesExporter.reveal_number='c/t' \\\n",
    "--SlidesExporter.reveal_scroll=False\n"
   ]
  }
 ],
 "metadata": {
  "kernelspec": {
   "display_name": "Python 3 (ipykernel)",
   "language": "python",
   "name": "python3"
  },
  "language_info": {
   "codemirror_mode": {
    "name": "ipython",
    "version": 3
   },
   "file_extension": ".py",
   "mimetype": "text/x-python",
   "name": "python",
   "nbconvert_exporter": "python",
   "pygments_lexer": "ipython3",
   "version": "3.12.2"
  }
 },
 "nbformat": 4,
 "nbformat_minor": 5
}
